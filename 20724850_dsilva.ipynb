{
 "cells": [
  {
   "cell_type": "markdown",
   "metadata": {
    "id": "3bglsfZish5u"
   },
   "source": [
    "Submission for CS 480:\n",
    "\n",
    "1) import the libraries and change data path to where your training data and testing data is located\n",
    "\n",
    "2) Run the code"
   ]
  },
  {
   "cell_type": "code",
   "execution_count": 1,
   "metadata": {
    "id": "Laucrs2xTPMh"
   },
   "outputs": [],
   "source": [
    "import numpy as np\n",
    "import pandas as pd\n",
    "import xgboost as xgb"
   ]
  },
  {
   "cell_type": "code",
   "execution_count": 2,
   "metadata": {
    "colab": {
     "base_uri": "https://localhost:8080/"
    },
    "id": "EfGf70ZSTXoj",
    "outputId": "183f01e6-c80b-4dae-d779-852b138f7b4b"
   },
   "outputs": [
    {
     "name": "stdout",
     "output_type": "stream",
     "text": [
      "Mounted at /content/drive\n"
     ]
    }
   ],
   "source": [
    "from google.colab import drive\n",
    "drive.mount('/content/drive')"
   ]
  },
  {
   "cell_type": "code",
   "execution_count": 3,
   "metadata": {
    "colab": {
     "base_uri": "https://localhost:8080/"
    },
    "id": "RT4IjOQsTf_u",
    "outputId": "df190631-a60d-4de7-936e-a15eebe0cb2a"
   },
   "outputs": [
    {
     "name": "stdout",
     "output_type": "stream",
     "text": [
      "done\n"
     ]
    }
   ],
   "source": [
    "train_data_path = '/content/drive/My Drive/CS_480/train.csv'\n",
    "test_data_path = '/content/drive/My Drive/CS_480/test.csv'\n",
    "\n",
    "train_data = pd.read_csv(train_data_path)\n",
    "# different classes\n",
    "train_data.label.unique()\n",
    "train_data.replace(('compo', 'jam'), (1, 0), inplace=True)\n",
    "\n",
    "#convert pandas DataFrame to numpy array if it needed!\n",
    "train_data_numpy = train_data.to_numpy()\n",
    "print('done')"
   ]
  },
  {
   "cell_type": "code",
   "execution_count": 4,
   "metadata": {
    "colab": {
     "base_uri": "https://localhost:8080/"
    },
    "id": "4lSe45XAUIbp",
    "outputId": "52699286-d445-45d0-ca4a-b0de419a6609"
   },
   "outputs": [
    {
     "name": "stdout",
     "output_type": "stream",
     "text": [
      "(21948, 33)\n"
     ]
    }
   ],
   "source": [
    "print(train_data_numpy.shape)"
   ]
  },
  {
   "cell_type": "code",
   "execution_count": 5,
   "metadata": {
    "colab": {
     "base_uri": "https://localhost:8080/",
     "height": 496
    },
    "id": "jGc7g4OPUMQt",
    "outputId": "52bbe3ed-f6db-415a-abeb-7049ecd548e2"
   },
   "outputs": [
    {
     "data": {
      "text/html": [
       "\n",
       "  <div id=\"df-cc37de38-eebf-4786-8c31-3c7c0f3ffecd\">\n",
       "    <div class=\"colab-df-container\">\n",
       "      <div>\n",
       "<style scoped>\n",
       "    .dataframe tbody tr th:only-of-type {\n",
       "        vertical-align: middle;\n",
       "    }\n",
       "\n",
       "    .dataframe tbody tr th {\n",
       "        vertical-align: top;\n",
       "    }\n",
       "\n",
       "    .dataframe thead th {\n",
       "        text-align: right;\n",
       "    }\n",
       "</style>\n",
       "<table border=\"1\" class=\"dataframe\">\n",
       "  <thead>\n",
       "    <tr style=\"text-align: right;\">\n",
       "      <th></th>\n",
       "      <th>id</th>\n",
       "      <th>name</th>\n",
       "      <th>slug</th>\n",
       "      <th>path</th>\n",
       "      <th>competition-num</th>\n",
       "      <th>category</th>\n",
       "      <th>description</th>\n",
       "      <th>num-comments</th>\n",
       "      <th>published</th>\n",
       "      <th>modified</th>\n",
       "      <th>version</th>\n",
       "      <th>feedback-karma</th>\n",
       "      <th>ratings-given</th>\n",
       "      <th>ratings-received</th>\n",
       "      <th>links</th>\n",
       "      <th>link-tags</th>\n",
       "      <th>num-authors</th>\n",
       "      <th>prev-games</th>\n",
       "      <th>fun-average</th>\n",
       "      <th>innovation-average</th>\n",
       "      <th>theme-average</th>\n",
       "      <th>graphics-average</th>\n",
       "      <th>audio-average</th>\n",
       "      <th>humor-average</th>\n",
       "      <th>mood-average</th>\n",
       "      <th>fun-rank</th>\n",
       "      <th>innovation-rank</th>\n",
       "      <th>theme-rank</th>\n",
       "      <th>graphics-rank</th>\n",
       "      <th>audio-rank</th>\n",
       "      <th>humor-rank</th>\n",
       "      <th>mood-rank</th>\n",
       "      <th>label</th>\n",
       "    </tr>\n",
       "  </thead>\n",
       "  <tbody>\n",
       "    <tr>\n",
       "      <th>0</th>\n",
       "      <td>15185</td>\n",
       "      <td>I Just Wanted Groceries</td>\n",
       "      <td>i-just-wanted-groceries</td>\n",
       "      <td>/events/ludum-dare/38/i-just-wanted-groceries</td>\n",
       "      <td>38</td>\n",
       "      <td>0</td>\n",
       "      <td>### *[Play the game!](https://excaliburjs.com/...</td>\n",
       "      <td>17</td>\n",
       "      <td>2017-04-25T01:01:15Z</td>\n",
       "      <td>2017-05-01T06:35:58Z</td>\n",
       "      <td>73140</td>\n",
       "      <td>19</td>\n",
       "      <td>52.125</td>\n",
       "      <td>26.571429</td>\n",
       "      <td>NaN</td>\n",
       "      <td>NaN</td>\n",
       "      <td>5</td>\n",
       "      <td>0</td>\n",
       "      <td>3.840</td>\n",
       "      <td>3.280</td>\n",
       "      <td>3.720</td>\n",
       "      <td>3.680</td>\n",
       "      <td>-1.000</td>\n",
       "      <td>4.000</td>\n",
       "      <td>3.609</td>\n",
       "      <td>88</td>\n",
       "      <td>298</td>\n",
       "      <td>230</td>\n",
       "      <td>328</td>\n",
       "      <td>-1</td>\n",
       "      <td>38</td>\n",
       "      <td>202</td>\n",
       "      <td>4</td>\n",
       "    </tr>\n",
       "    <tr>\n",
       "      <th>1</th>\n",
       "      <td>15233</td>\n",
       "      <td>STACK</td>\n",
       "      <td>stack</td>\n",
       "      <td>/events/ludum-dare/38/stack</td>\n",
       "      <td>38</td>\n",
       "      <td>1</td>\n",
       "      <td>![STACK_Cover.PNG](///raw/747/3/z/1b7a.png)&lt;br...</td>\n",
       "      <td>33</td>\n",
       "      <td>2017-04-23T21:02:47Z</td>\n",
       "      <td>2017-04-30T22:40:41Z</td>\n",
       "      <td>72521</td>\n",
       "      <td>44</td>\n",
       "      <td>41.375</td>\n",
       "      <td>28.250000</td>\n",
       "      <td>NaN</td>\n",
       "      <td>NaN</td>\n",
       "      <td>1</td>\n",
       "      <td>0</td>\n",
       "      <td>3.519</td>\n",
       "      <td>3.815</td>\n",
       "      <td>4.037</td>\n",
       "      <td>3.815</td>\n",
       "      <td>3.520</td>\n",
       "      <td>3.708</td>\n",
       "      <td>3.692</td>\n",
       "      <td>147</td>\n",
       "      <td>61</td>\n",
       "      <td>55</td>\n",
       "      <td>136</td>\n",
       "      <td>98</td>\n",
       "      <td>48</td>\n",
       "      <td>83</td>\n",
       "      <td>4</td>\n",
       "    </tr>\n",
       "    <tr>\n",
       "      <th>2</th>\n",
       "      <td>15238</td>\n",
       "      <td>Conquer Earth</td>\n",
       "      <td>conquer-earth-1</td>\n",
       "      <td>/events/ludum-dare/38/conquer-earth-1</td>\n",
       "      <td>38</td>\n",
       "      <td>0</td>\n",
       "      <td>Link: http://www.edeb8.com/LD38/index.php&lt;br&gt;&lt;...</td>\n",
       "      <td>50</td>\n",
       "      <td>2017-04-25T01:02:38Z</td>\n",
       "      <td>2017-04-30T04:42:44Z</td>\n",
       "      <td>71843</td>\n",
       "      <td>62</td>\n",
       "      <td>25.750</td>\n",
       "      <td>24.250000</td>\n",
       "      <td>NaN</td>\n",
       "      <td>NaN</td>\n",
       "      <td>1</td>\n",
       "      <td>0</td>\n",
       "      <td>3.565</td>\n",
       "      <td>3.696</td>\n",
       "      <td>2.913</td>\n",
       "      <td>3.087</td>\n",
       "      <td>3.952</td>\n",
       "      <td>2.190</td>\n",
       "      <td>3.429</td>\n",
       "      <td>175</td>\n",
       "      <td>130</td>\n",
       "      <td>598</td>\n",
       "      <td>528</td>\n",
       "      <td>66</td>\n",
       "      <td>530</td>\n",
       "      <td>279</td>\n",
       "      <td>4</td>\n",
       "    </tr>\n",
       "    <tr>\n",
       "      <th>3</th>\n",
       "      <td>15268</td>\n",
       "      <td>Attack of the Planetary-Vampires</td>\n",
       "      <td>attack-of-the-planetary-vampires</td>\n",
       "      <td>/events/ludum-dare/38/attack-of-the-planetary-...</td>\n",
       "      <td>38</td>\n",
       "      <td>0</td>\n",
       "      <td>Game with @sawtan jam team **Bald'n'Hairy**!&lt;b...</td>\n",
       "      <td>20</td>\n",
       "      <td>2017-04-24T19:43:02Z</td>\n",
       "      <td>2017-05-01T19:57:18Z</td>\n",
       "      <td>75208</td>\n",
       "      <td>28</td>\n",
       "      <td>29.000</td>\n",
       "      <td>22.000000</td>\n",
       "      <td>NaN</td>\n",
       "      <td>NaN</td>\n",
       "      <td>2</td>\n",
       "      <td>0</td>\n",
       "      <td>3.550</td>\n",
       "      <td>2.700</td>\n",
       "      <td>3.100</td>\n",
       "      <td>4.000</td>\n",
       "      <td>3.600</td>\n",
       "      <td>2.400</td>\n",
       "      <td>3.400</td>\n",
       "      <td>180</td>\n",
       "      <td>600</td>\n",
       "      <td>536</td>\n",
       "      <td>190</td>\n",
       "      <td>159</td>\n",
       "      <td>447</td>\n",
       "      <td>290</td>\n",
       "      <td>4</td>\n",
       "    </tr>\n",
       "    <tr>\n",
       "      <th>4</th>\n",
       "      <td>15271</td>\n",
       "      <td>It's square to be a cube</td>\n",
       "      <td>its-square-to-be-a-cube</td>\n",
       "      <td>/events/ludum-dare/38/its-square-to-be-a-cube</td>\n",
       "      <td>38</td>\n",
       "      <td>1</td>\n",
       "      <td>My first entry to Ludum dare, got stuck on som...</td>\n",
       "      <td>39</td>\n",
       "      <td>2017-04-24T01:08:09Z</td>\n",
       "      <td>2017-05-03T08:02:44Z</td>\n",
       "      <td>77551</td>\n",
       "      <td>53</td>\n",
       "      <td>47.875</td>\n",
       "      <td>39.875000</td>\n",
       "      <td>NaN</td>\n",
       "      <td>NaN</td>\n",
       "      <td>1</td>\n",
       "      <td>0</td>\n",
       "      <td>3.436</td>\n",
       "      <td>4.077</td>\n",
       "      <td>3.154</td>\n",
       "      <td>2.179</td>\n",
       "      <td>2.108</td>\n",
       "      <td>1.800</td>\n",
       "      <td>2.417</td>\n",
       "      <td>171</td>\n",
       "      <td>31</td>\n",
       "      <td>356</td>\n",
       "      <td>518</td>\n",
       "      <td>387</td>\n",
       "      <td>433</td>\n",
       "      <td>477</td>\n",
       "      <td>3</td>\n",
       "    </tr>\n",
       "  </tbody>\n",
       "</table>\n",
       "</div>\n",
       "      <button class=\"colab-df-convert\" onclick=\"convertToInteractive('df-cc37de38-eebf-4786-8c31-3c7c0f3ffecd')\"\n",
       "              title=\"Convert this dataframe to an interactive table.\"\n",
       "              style=\"display:none;\">\n",
       "        \n",
       "  <svg xmlns=\"http://www.w3.org/2000/svg\" height=\"24px\"viewBox=\"0 0 24 24\"\n",
       "       width=\"24px\">\n",
       "    <path d=\"M0 0h24v24H0V0z\" fill=\"none\"/>\n",
       "    <path d=\"M18.56 5.44l.94 2.06.94-2.06 2.06-.94-2.06-.94-.94-2.06-.94 2.06-2.06.94zm-11 1L8.5 8.5l.94-2.06 2.06-.94-2.06-.94L8.5 2.5l-.94 2.06-2.06.94zm10 10l.94 2.06.94-2.06 2.06-.94-2.06-.94-.94-2.06-.94 2.06-2.06.94z\"/><path d=\"M17.41 7.96l-1.37-1.37c-.4-.4-.92-.59-1.43-.59-.52 0-1.04.2-1.43.59L10.3 9.45l-7.72 7.72c-.78.78-.78 2.05 0 2.83L4 21.41c.39.39.9.59 1.41.59.51 0 1.02-.2 1.41-.59l7.78-7.78 2.81-2.81c.8-.78.8-2.07 0-2.86zM5.41 20L4 18.59l7.72-7.72 1.47 1.35L5.41 20z\"/>\n",
       "  </svg>\n",
       "      </button>\n",
       "      \n",
       "  <style>\n",
       "    .colab-df-container {\n",
       "      display:flex;\n",
       "      flex-wrap:wrap;\n",
       "      gap: 12px;\n",
       "    }\n",
       "\n",
       "    .colab-df-convert {\n",
       "      background-color: #E8F0FE;\n",
       "      border: none;\n",
       "      border-radius: 50%;\n",
       "      cursor: pointer;\n",
       "      display: none;\n",
       "      fill: #1967D2;\n",
       "      height: 32px;\n",
       "      padding: 0 0 0 0;\n",
       "      width: 32px;\n",
       "    }\n",
       "\n",
       "    .colab-df-convert:hover {\n",
       "      background-color: #E2EBFA;\n",
       "      box-shadow: 0px 1px 2px rgba(60, 64, 67, 0.3), 0px 1px 3px 1px rgba(60, 64, 67, 0.15);\n",
       "      fill: #174EA6;\n",
       "    }\n",
       "\n",
       "    [theme=dark] .colab-df-convert {\n",
       "      background-color: #3B4455;\n",
       "      fill: #D2E3FC;\n",
       "    }\n",
       "\n",
       "    [theme=dark] .colab-df-convert:hover {\n",
       "      background-color: #434B5C;\n",
       "      box-shadow: 0px 1px 3px 1px rgba(0, 0, 0, 0.15);\n",
       "      filter: drop-shadow(0px 1px 2px rgba(0, 0, 0, 0.3));\n",
       "      fill: #FFFFFF;\n",
       "    }\n",
       "  </style>\n",
       "\n",
       "      <script>\n",
       "        const buttonEl =\n",
       "          document.querySelector('#df-cc37de38-eebf-4786-8c31-3c7c0f3ffecd button.colab-df-convert');\n",
       "        buttonEl.style.display =\n",
       "          google.colab.kernel.accessAllowed ? 'block' : 'none';\n",
       "\n",
       "        async function convertToInteractive(key) {\n",
       "          const element = document.querySelector('#df-cc37de38-eebf-4786-8c31-3c7c0f3ffecd');\n",
       "          const dataTable =\n",
       "            await google.colab.kernel.invokeFunction('convertToInteractive',\n",
       "                                                     [key], {});\n",
       "          if (!dataTable) return;\n",
       "\n",
       "          const docLinkHtml = 'Like what you see? Visit the ' +\n",
       "            '<a target=\"_blank\" href=https://colab.research.google.com/notebooks/data_table.ipynb>data table notebook</a>'\n",
       "            + ' to learn more about interactive tables.';\n",
       "          element.innerHTML = '';\n",
       "          dataTable['output_type'] = 'display_data';\n",
       "          await google.colab.output.renderOutput(dataTable, element);\n",
       "          const docLink = document.createElement('div');\n",
       "          docLink.innerHTML = docLinkHtml;\n",
       "          element.appendChild(docLink);\n",
       "        }\n",
       "      </script>\n",
       "    </div>\n",
       "  </div>\n",
       "  "
      ],
      "text/plain": [
       "      id                              name  ... mood-rank label\n",
       "0  15185           I Just Wanted Groceries  ...       202     4\n",
       "1  15233                             STACK  ...        83     4\n",
       "2  15238                     Conquer Earth  ...       279     4\n",
       "3  15268  Attack of the Planetary-Vampires  ...       290     4\n",
       "4  15271          It's square to be a cube  ...       477     3\n",
       "\n",
       "[5 rows x 33 columns]"
      ]
     },
     "execution_count": 5,
     "metadata": {},
     "output_type": "execute_result"
    }
   ],
   "source": [
    "train_data.head()"
   ]
  },
  {
   "cell_type": "code",
   "execution_count": 6,
   "metadata": {
    "colab": {
     "base_uri": "https://localhost:8080/"
    },
    "id": "_NNSdRi5XGrV",
    "outputId": "964a2a85-c6e6-462a-f353-c0bfe068d19b"
   },
   "outputs": [
    {
     "name": "stdout",
     "output_type": "stream",
     "text": [
      "(21948,)\n"
     ]
    }
   ],
   "source": [
    "X_category = train_data_numpy[:, 5]\n",
    "X_category = np.reshape(X_category, (np.shape(X_category)[0],1))\n",
    "\n",
    "X_feedback = train_data_numpy[:, 11:14]\n",
    "\n",
    "X_category = np.reshape(X_category, (np.shape(X_category)[0],1))\n",
    "X_1 = np.hstack((X_category, X_feedback))\n",
    "X_2 = train_data_numpy[:, 18:32]\n",
    "\n",
    "X = np.hstack((X_1, X_2))\n",
    "\n",
    "y = train_data_numpy[:, 32]\n",
    "y=y.astype('int')\n",
    "print(y.shape)"
   ]
  },
  {
   "cell_type": "code",
   "execution_count": 7,
   "metadata": {
    "colab": {
     "base_uri": "https://localhost:8080/"
    },
    "id": "uSkYTpAxXpZW",
    "outputId": "b0b82a21-994f-4982-e798-549bff6bca22"
   },
   "outputs": [
    {
     "name": "stdout",
     "output_type": "stream",
     "text": [
      "done\n"
     ]
    }
   ],
   "source": [
    "from sklearn.model_selection import train_test_split\n",
    "X_train, X_test, y_train, y_test = train_test_split(X, y, test_size=0.33, random_state = 7)\n",
    "print('done')"
   ]
  },
  {
   "cell_type": "code",
   "execution_count": 8,
   "metadata": {
    "colab": {
     "base_uri": "https://localhost:8080/"
    },
    "id": "G9Gz2wKhY9Xf",
    "outputId": "ae5dc695-3759-462c-c38b-315d203fc68d"
   },
   "outputs": [
    {
     "data": {
      "text/plain": [
       "array([3, 0, 0, ..., 3, 0, 4])"
      ]
     },
     "execution_count": 8,
     "metadata": {},
     "output_type": "execute_result"
    }
   ],
   "source": [
    "y_train"
   ]
  },
  {
   "cell_type": "markdown",
   "metadata": {
    "id": "YzUTY8CVl4Zt"
   },
   "source": [
    "# **XGBClassifier**"
   ]
  },
  {
   "cell_type": "code",
   "execution_count": 31,
   "metadata": {
    "colab": {
     "base_uri": "https://localhost:8080/"
    },
    "id": "0ZrgisfWE2MD",
    "outputId": "665087c7-7650-4a97-c26e-c8157e80c131"
   },
   "outputs": [
    {
     "name": "stdout",
     "output_type": "stream",
     "text": [
      "0.9444981361314373\n"
     ]
    }
   ],
   "source": [
    "from sklearn.metrics import accuracy_score\n",
    "model = xgb.XGBClassifier(silent=False, \n",
    "                      scale_pos_weight=1,\n",
    "                      learning_rate=0.08,  \n",
    "                      colsample_bytree = 0.4,\n",
    "                      subsample = 0.8,\n",
    "                      objective='binary:logistic', \n",
    "                      n_estimators=100, \n",
    "                      reg_alpha = 0.3,\n",
    "                      max_depth=5, \n",
    "                      gamma=0)\n",
    "model.fit(X_train, y_train)\n",
    "y_pred = model.predict(X_test)\n",
    "accuracy = accuracy_score(y_test, y_pred)\n",
    "print(accuracy)"
   ]
  },
  {
   "cell_type": "code",
   "execution_count": 32,
   "metadata": {
    "colab": {
     "base_uri": "https://localhost:8080/"
    },
    "id": "z4eW12RhRw53",
    "outputId": "c6800ded-611b-4e79-8e3e-06d9ea218f50"
   },
   "outputs": [
    {
     "name": "stdout",
     "output_type": "stream",
     "text": [
      "<bound method DataFrame.value_counts of           id  label\n",
      "0     187282      0\n",
      "1     191602      0\n",
      "2     180566      4\n",
      "3     182197      0\n",
      "4     189638      4\n",
      "...      ...    ...\n",
      "4954  199422      4\n",
      "4955  199706      4\n",
      "4956  200853      3\n",
      "4957  201502      4\n",
      "4958  202646      4\n",
      "\n",
      "[4959 rows x 2 columns]>\n",
      "done\n"
     ]
    }
   ],
   "source": [
    "test_data = pd.read_csv(test_data_path)\n",
    "test_data.replace(('compo', 'jam'), (1, 0), inplace=True)\n",
    "test_data_numpy = test_data.to_numpy()\n",
    "id = test_data_numpy[:, 0]\n",
    "Xtest_category = test_data_numpy[:, 5]\n",
    "Xtest_category = np.reshape(Xtest_category, (np.shape(Xtest_category)[0],1))\n",
    "\n",
    "Xtest_feedback = test_data_numpy[:, 11:14]\n",
    "\n",
    "Xtest_category = np.reshape(Xtest_category, (np.shape(Xtest_category)[0],1))\n",
    "X_1 = np.hstack((Xtest_category, Xtest_feedback))\n",
    "X_2 = test_data_numpy[:, 18:32]\n",
    "\n",
    "X = np.hstack((X_1, X_2))\n",
    "final = model.predict(X)\n",
    "test_submission = pd.DataFrame({'id': id, 'label': final})\n",
    "print(test_submission.value_counts)\n",
    "\n",
    "\n",
    "test_submission.to_csv('/content/drive/My Drive/CS_480/submission.csv', index=False)\n",
    "print('done')"
   ]
  }
 ],
 "metadata": {
  "accelerator": "GPU",
  "colab": {
   "collapsed_sections": [],
   "name": "CS_480.ipynb",
   "provenance": []
  },
  "kernelspec": {
   "display_name": "Python 3",
   "language": "python",
   "name": "python3"
  },
  "language_info": {
   "codemirror_mode": {
    "name": "ipython",
    "version": 3
   },
   "file_extension": ".py",
   "mimetype": "text/x-python",
   "name": "python",
   "nbconvert_exporter": "python",
   "pygments_lexer": "ipython3",
   "version": "3.7.1"
  }
 },
 "nbformat": 4,
 "nbformat_minor": 1
}
